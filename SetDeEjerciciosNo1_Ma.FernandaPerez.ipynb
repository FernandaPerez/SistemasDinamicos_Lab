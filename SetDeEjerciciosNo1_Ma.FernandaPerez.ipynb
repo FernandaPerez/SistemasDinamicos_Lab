{
 "cells": [
  {
   "cell_type": "markdown",
   "metadata": {},
   "source": [
    "# Ejercicio 3\n",
    "\n",
    "## Primera Aproximación de una Función Derivada"
   ]
  },
  {
   "cell_type": "markdown",
   "metadata": {},
   "source": [
    "#### Funcion Polinómica\n",
    "\n",
    "Primero definiremos una función payasa que denominaremos: prueba y definida como:\n",
    "$$P(x) = x^2 + 2x + 1 $$\n",
    "Calcula un polinomio de grado en el punto x y la utilizaré para probar la derivada numérica que queremos calcular.\n"
   ]
  },
  {
   "cell_type": "code",
   "execution_count": 2,
   "metadata": {
    "collapsed": false
   },
   "outputs": [
    {
     "name": "stdout",
     "output_type": "stream",
     "text": [
      "9\n"
     ]
    }
   ],
   "source": [
    "function P(x)\n",
    "    prueba = x^2 + 2x + 1\n",
    "    return prueba\n",
    "end\n",
    "\n",
    "println(P(2))"
   ]
  },
  {
   "cell_type": "markdown",
   "metadata": {},
   "source": [
    "Sabemos cuál es la expresión analítica de $\\frac{dP}{dx}(x) $:\n",
    "$$P(x) = 2x + 2$$.\n",
    "También podemos implementar ésta función que llamaremos **dP**:"
   ]
  },
  {
   "cell_type": "code",
   "execution_count": 3,
   "metadata": {
    "collapsed": false
   },
   "outputs": [
    {
     "data": {
      "text/plain": [
       "dP (generic function with 1 method)"
      ]
     },
     "execution_count": 3,
     "metadata": {},
     "output_type": "execute_result"
    }
   ],
   "source": [
    "function dP(x)\n",
    "    dprueba = 2*x + 2\n",
    "    return dprueba\n",
    "end"
   ]
  },
  {
   "cell_type": "markdown",
   "metadata": {},
   "source": [
    "La función **derivada1**  recibirá los parámetros *(f, x0, h)* (en donde f es la función a evaluar; x0 el punto en donde será calculada la derivada y h el parámetro de la derivada)."
   ]
  },
  {
   "cell_type": "code",
   "execution_count": 4,
   "metadata": {
    "collapsed": false
   },
   "outputs": [
    {
     "data": {
      "text/plain": [
       "derivada1 (generic function with 1 method)"
      ]
     },
     "execution_count": 4,
     "metadata": {},
     "output_type": "execute_result"
    }
   ],
   "source": [
    "function derivada1(f, x0, h)\n",
    "    dfdx = ((f(x0 + h) - f(x0))/h)\n",
    "    \n",
    "    return dfdx\n",
    "end    "
   ]
  },
  {
   "cell_type": "markdown",
   "metadata": {},
   "source": [
    "Evaluamos la función de prueba $P(x)$  y su derivada, que obtuvimos analíticamente, en en un punto; el que sea... qué tal...\n",
    "        $$\\alpha = 2.0 $$"
   ]
  },
  {
   "cell_type": "code",
   "execution_count": 5,
   "metadata": {
    "collapsed": false
   },
   "outputs": [
    {
     "name": "stdout",
     "output_type": "stream",
     "text": [
      "* La funcion prueba P(x) es: 9.0\n",
      "* Su derivada en el punto α) es: 6.0\n"
     ]
    }
   ],
   "source": [
    "α = 2.0\n",
    "println(\"* La funcion prueba P(x) es: \", P(α))\n",
    "println(\"* Su derivada en el punto α) es: \", dP(α))"
   ]
  },
  {
   "cell_type": "markdown",
   "metadata": {},
   "source": [
    "Parece que tiene mucho sentido.\n",
    "Ahora vamos a probar en la derivada que nosotros construimos, para una $h = 0.01$."
   ]
  },
  {
   "cell_type": "code",
   "execution_count": 6,
   "metadata": {
    "collapsed": false
   },
   "outputs": [
    {
     "data": {
      "text/plain": [
       "6.009999999999849"
      ]
     },
     "execution_count": 6,
     "metadata": {},
     "output_type": "execute_result"
    }
   ],
   "source": [
    "DerivadaNumerica = derivada1(P, α, 0.01)"
   ]
  },
  {
   "cell_type": "markdown",
   "metadata": {},
   "source": [
    "Probamos para varios valores de $h$..."
   ]
  },
  {
   "cell_type": "code",
   "execution_count": 21,
   "metadata": {
    "collapsed": false
   },
   "outputs": [
    {
     "name": "stdout",
     "output_type": "stream",
     "text": [
      "* Para  0.0001 la el valor de la derivada numerica es:6.000100000012054\n",
      "* Para  0.0002 la el valor de la derivada numerica es:6.000200000002565\n",
      "* Para  0.00030000000000000003 la el valor de la derivada numerica es:6.000300000004917\n",
      "* Para  0.0004 la el valor de la derivada numerica es:6.000400000001349\n",
      "* Para  0.0005 la el valor de la derivada numerica es:6.000500000002518\n",
      "* Para  0.0006000000000000001 la el valor de la derivada numerica es:6.000600000000133\n"
     ]
    }
   ],
   "source": [
    "H = [1:6]*0.0001\n",
    "DerivadaNumerica = 0.\n",
    "Derivadas1_P = Float32[]\n",
    "\n",
    "for h in H\n",
    "    DerivadaNumerica = derivada1(P, α, h)\n",
    "    push!(Derivadas1_P, DerivadaNumerica)\n",
    "    println(\"* Para  \", h,\" la el valor de la derivada numerica es:\", DerivadaNumerica)\n",
    "end"
   ]
  },
  {
   "cell_type": "markdown",
   "metadata": {},
   "source": [
    "Notamos que, mientras más pequeño sea el valor de $h$, nos aproximamos más al valor que calculamos con la derivada analítica.\n"
   ]
  },
  {
   "cell_type": "markdown",
   "metadata": {},
   "source": [
    "#### Función Trascendental\n",
    "Probemos ahora con una función transcendental:\n",
    "$$T(x) = sin(x) + e^{-x}$$\n",
    "Cuya derivada podemos obtener como:\n",
    "$$\\frac{dT}{dx}(x) = cos(x) - e^{-x}$$\n",
    "\n",
    "Implentamos estas funciones:"
   ]
  },
  {
   "cell_type": "code",
   "execution_count": 17,
   "metadata": {
    "collapsed": false
   },
   "outputs": [
    {
     "data": {
      "text/plain": [
       "dT (generic function with 1 method)"
      ]
     },
     "execution_count": 17,
     "metadata": {},
     "output_type": "execute_result"
    }
   ],
   "source": [
    "#Funcion trascendental\n",
    "function T(x)\n",
    "    return sin(x) + e^(-x)\n",
    "end\n",
    "\n",
    "#Derivada\n",
    "function dT(x)\n",
    "    return cos(x) - e^(-x)\n",
    "end"
   ]
  },
  {
   "cell_type": "markdown",
   "metadata": {},
   "source": [
    "Y evaluamos en otro punto arbitrario... ahora que sea:\n",
    "$$\\beta = 9.8$$"
   ]
  },
  {
   "cell_type": "code",
   "execution_count": 19,
   "metadata": {
    "collapsed": false
   },
   "outputs": [
    {
     "name": "stdout",
     "output_type": "stream",
     "text": [
      "* La funcion prueba T(x) es: 1.0446327100622943\n",
      "* Su derivada en el punto β) es: -0.5514821197837552\n"
     ]
    }
   ],
   "source": [
    "β = 2.0\n",
    "println(\"* La funcion prueba T(x) es: \", T(β))\n",
    "println(\"* Su derivada en el punto β) es: \", dT(β))"
   ]
  },
  {
   "cell_type": "markdown",
   "metadata": {},
   "source": [
    "Repitamos ahora el procedimiento anterior; evaluemos nuestra definición de derivada **derivada1** en el mismo punto $\\beta$ y comparemos el valor resultante con el del obtenido de forma analítica."
   ]
  },
  {
   "cell_type": "code",
   "execution_count": 20,
   "metadata": {
    "collapsed": false,
    "scrolled": true
   },
   "outputs": [
    {
     "name": "stdout",
     "output_type": "stream",
     "text": [
      "* Para  0.0001 la el valor de la derivada numerica es:-0.551520817424489\n",
      "* Para  0.0002 la el valor de la derivada numerica es:-0.5515595141247776\n",
      "* Para  0.00030000000000000003 la el valor de la derivada numerica es:-0.5515982098917386\n",
      "* Para  0.0004 la el valor de la derivada numerica es:-0.5516369047209313\n",
      "* Para  0.0005 la el valor de la derivada numerica es:-0.5516755986136879\n",
      "* Para  0.0006000000000000001 la el valor de la derivada numerica es:-0.551714291568602\n"
     ]
    }
   ],
   "source": [
    "DerivadaNumerica = 0.\n",
    "Derivadas1_T = Float32[]\n",
    "\n",
    "for h in H\n",
    "    DerivadaNumerica = derivada1(T, β, h)\n",
    "    push!(Derivadas1_T, DerivadaNumerica)\n",
    "    println(\"* Para  \", h,\" la el valor de la derivada numerica es:\", DerivadaNumerica)\n",
    "end"
   ]
  },
  {
   "cell_type": "markdown",
   "metadata": {},
   "source": [
    "## ¿Qué onda con los Errores?"
   ]
  },
  {
   "cell_type": "markdown",
   "metadata": {},
   "source": [
    "Para estimar *qué tan bueno es nuestro método*, tenemos varias opciones.\n",
    "Una de ellas es por medio del Teorema de Taylor. Wikipedia habla sobre esto y nos informa sobre el orden de error de la formulita que implementamos en **derivada1**: Tiene un orden de error $\\Omega$ de ~$\\Omega(h)$. Tendríamos que usar valores de $h$ verdaderamente pequeños para conseguir valores aceptables.\n",
    "\n",
    "Una forma más cualitativa de ver la dependencia del error $E$ de $h$ es utilizar los valores que obtuvimos para distintos valores de $h$ (y que convenientemente guardamos en los arreglos `Derivadas1_P` y `Derivadas1_T`) para calcuar el error relativo:\n",
    "$$E(h) = \\frac{|derivada1(h) - f(x)| }{h}$$\n",
    "donde $f(x)$ serán $P(x)$ y $T(x)$, respectivamente."
   ]
  },
  {
   "cell_type": "code",
   "execution_count": 39,
   "metadata": {
    "collapsed": false
   },
   "outputs": [
    {
     "data": {
      "text/plain": [
       "E_t (generic function with 1 method)"
      ]
     },
     "execution_count": 39,
     "metadata": {},
     "output_type": "execute_result"
    }
   ],
   "source": [
    "#Para el polinomio\n",
    "function E_p(derivada, x0, h)\n",
    "    e = abs(derivada(P,x0,h) - dP(x0))/dP(x0)\n",
    "    return e\n",
    "end\n",
    "\n",
    "#Para la trascendental\n",
    "function E_t(derivada, x0, h)\n",
    "    e = abs(derivada(T,x0,h) - dT(x0))/dT(x0)\n",
    "    return e\n",
    "end"
   ]
  },
  {
   "cell_type": "markdown",
   "metadata": {},
   "source": [
    "Definimos unas listas para guardar esos resultados e iteramos para conocer los errores en el punto $\\alpha$ y en el punto $\\beta$:"
   ]
  },
  {
   "cell_type": "code",
   "execution_count": 40,
   "metadata": {
    "collapsed": false
   },
   "outputs": [
    {
     "name": "stdout",
     "output_type": "stream",
     "text": [
      "h = 0.0001. Error = 1.6666668675687408e-5.\n",
      "h = 0.0002. Error = 3.333333376076553e-5.\n",
      "h = 0.00030000000000000003. Error = 5.0000000819524125e-5.\n",
      "h = 0.0004. Error = 6.66666668915165e-5.\n",
      "h = 0.0005. Error = 8.333333375295145e-5.\n",
      "h = 0.0006000000000000001. Error = 0.00010000000002211944.\n"
     ]
    }
   ],
   "source": [
    "Errores_P = Float32[]\n",
    "Errores_T = Float32[]\n",
    "\n",
    "ErrorP = 0.\n",
    "ErrorT = 0.\n",
    "\n",
    "for i in H\n",
    "    ErrorP = E_p(derivada1, α, i)\n",
    "    push!(Errores_P, ErrorP)\n",
    "    println(\"h = \", i, \". Error = \", ErrorP, \".\" )\n",
    "end"
   ]
  },
  {
   "cell_type": "code",
   "execution_count": 41,
   "metadata": {
    "collapsed": false
   },
   "outputs": [
    {
     "name": "stdout",
     "output_type": "stream",
     "text": [
      "h = 0.0001. Error = -7.017025456601433e-5.\n",
      "h = 0.0002. Error = -0.00014033880382691816.\n",
      "h = 0.00030000000000000003. Error = -0.00021050566068929648.\n",
      "h = 0.0004. Error = -0.0002806708171007013.\n",
      "h = 0.0005. Error = -0.00035083427547672613.\n",
      "h = 0.0006000000000000001. Error = -0.0004209960332672982.\n"
     ]
    }
   ],
   "source": [
    "for i in H\n",
    "    ErrorT = E_t(derivada1, β, i)\n",
    "    push!(Errores_T, ErrorT)\n",
    "    println(\"h = \", i, \". Error = \", ErrorT, \".\" )\n",
    "end"
   ]
  },
  {
   "cell_type": "markdown",
   "metadata": {},
   "source": [
    "Para el caso de $\\alpha = 0.2$ en `dP(x)` y una $h$ del orden de $ 1 \\times 10^{-5}$, tenemos un error relativo mínimo del orden de $1 \\times 10^{-5}$; lo mismo ocurre para $\\beta$ en `dT(x)`. Comprobamos entonces que el $E(h)$ de nuestro método es del orden de la elección de $h$:\n",
    "$$E(h) \\approx O(h)$$\n",
    "\n",
    "Aún así, que el valor de **derivada1(h)** cuando $h \\rightarrow 0$ se aproxima al estimado de forma analítica.  \n",
    "\n",
    "Tiene mucho sentido porque la aproximación de derivada finita que utilizamos en nuestra fórmula está definida en realidad como un ***límite***. Únicamente alcanzaríamos los valores *absolutos* de $T(x0)$ y $P(x0)$ si $h$ fuese *cero*."
   ]
  },
  {
   "cell_type": "markdown",
   "metadata": {},
   "source": [
    "# Ejercicio 4"
   ]
  },
  {
   "cell_type": "markdown",
   "metadata": {},
   "source": [
    "## Segunda aproximación de Función Derivada"
   ]
  },
  {
   "cell_type": "code",
   "execution_count": null,
   "metadata": {
    "collapsed": true
   },
   "outputs": [],
   "source": []
  }
 ],
 "metadata": {
  "kernelspec": {
   "display_name": "Julia 0.3.10",
   "language": "julia",
   "name": "julia-0.3"
  },
  "language_info": {
   "name": "julia",
   "version": "0.3.10"
  }
 },
 "nbformat": 4,
 "nbformat_minor": 0
}
